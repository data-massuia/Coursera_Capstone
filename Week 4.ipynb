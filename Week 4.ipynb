{
 "cells": [
  {
   "cell_type": "markdown",
   "metadata": {},
   "source": [
    "# Capstone Project - The Battle of the Neighborhoods\n",
    "\n",
    "\n",
    "#### Applied Data Science Capstone by IBM/Coursera\n",
    "\n",
    "\n",
    "####  Douglas Massuia"
   ]
  },
  {
   "cell_type": "markdown",
   "metadata": {},
   "source": [
    "## 1) Introduction:"
   ]
  },
  {
   "cell_type": "markdown",
   "metadata": {},
   "source": [
    "### 1.1) Business Problem"
   ]
  },
  {
   "cell_type": "markdown",
   "metadata": {},
   "source": [
    "How does New York city neighborhoods correlate to eachother and which ones are similar but not necessarily close by physically? How can we group them by venue types and why does that matter? \n",
    "\n",
    "In this project we will direct our efforts on detecting connections in New York city neighborhoods that aren't visible if you just look at their actual location and coordinate. We want to discover which neighborhoods are related to others based on their venue types, not necessarily those that are close to eachother, and how they are spreaded over the Big Apple."
   ]
  },
  {
   "cell_type": "markdown",
   "metadata": {},
   "source": [
    "### 1.2) Interest"
   ]
  },
  {
   "cell_type": "markdown",
   "metadata": {},
   "source": [
    "Clustering is considered to be one of the most popular unsupervised machine learning techniques used for grouping data points, or objects that are somehow similar. Cluster analysis has many applications in different domains, whether it be a bank's desire to segment his customers based on certain characteristics, or helping an individual to organize in-group his, or her favorite types of music. Generally speaking though, clustering is used mostly for discovering structure, summarization, and anomaly detection.\n",
    "\n",
    "This application/algorithm would be able to help solve real world problems like:\n",
    "\n",
    "* Provide business a tool that would allow them to choose a location to open a new franchise based on their current customer profile segmentation\n",
    "\n",
    "* Create a customer profile based on their surroundings, or improve your current profiles with more data, better understanding their lifestyle and inclinations\n",
    "\n",
    "* Provide the public administration sector a tool that would allow them to more deeply understand NYC venues distribution and make better informed choices of what needs to be build/provided and where.\n",
    "\n",
    "* Select the best neighborhood to buy or rent your new home based on your venue priorities and preferences"
   ]
  },
  {
   "cell_type": "markdown",
   "metadata": {},
   "source": [
    "## 2) Data"
   ]
  },
  {
   "cell_type": "markdown",
   "metadata": {},
   "source": [
    "Data is one of the most important resources a company can have in our current digital era, and yet everyone is currently swimming in a rising tide of data. This data lives in information systems, applications, devices and platforms, and it resides in the surrounding ecosystem – shared by suppliers, supply chain and distribution partners, investors, employees, end-use customers and consumers.\n",
    "\n",
    "But it’s not just sheer volume. The sources and available types of data also continue to grow exponentially. In fact, 90 percent of the world’s current digital data was produced in the last two years, and the U.S. alone produces upward of 2.6 million gigabytes of internet data every minute.\n",
    "\n",
    "It's important to make sure the data that  is being used to create statistical analysis and models reflect the reality of the situation. For that it is important to take in consideration a few characteristics:"
   ]
  },
  {
   "cell_type": "markdown",
   "metadata": {},
   "source": [
    "* Accuracy and Precision\n",
    "* Legitimacy and Validity\n",
    "* Reliability and Consistency\n",
    "* Timeliness and Relevance\n",
    "* Completeness and Comprehensiveness\n",
    "* Availability and Accessibility\n",
    "* Granularity and Uniqueness"
   ]
  },
  {
   "cell_type": "markdown",
   "metadata": {},
   "source": [
    "There are many elements that determine data quality, and each can be prioritized differently by different methods. The prioritization could change depending on the stage of growth of a project. \n",
    "\n",
    "The key is to remember you must define what is most important for your project when evaluating data. Then, use these characteristics to define the criteria for high-quality, accurate data. Once defined, you can be assured of a better understanding and are better positioned to achieve the desired goals."
   ]
  },
  {
   "cell_type": "markdown",
   "metadata": {},
   "source": [
    "### 2.1) Data Source"
   ]
  },
  {
   "cell_type": "markdown",
   "metadata": {},
   "source": [
    "**The data that will be used in this project will come from two different sources:**\n",
    "\n",
    "\n",
    "        1) New York University Libraries' portal for GIS data discovery\n",
    "       \n",
    "        2) Foursquare independent location data platform for Venues\n"
   ]
  }
 ],
 "metadata": {
  "kernelspec": {
   "display_name": "Python",
   "language": "python",
   "name": "conda-env-python-py"
  },
  "language_info": {
   "codemirror_mode": {
    "name": "ipython",
    "version": 3
   },
   "file_extension": ".py",
   "mimetype": "text/x-python",
   "name": "python",
   "nbconvert_exporter": "python",
   "pygments_lexer": "ipython3",
   "version": "3.6.11"
  }
 },
 "nbformat": 4,
 "nbformat_minor": 4
}
